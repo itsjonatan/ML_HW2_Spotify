{
 "cells": [
  {
   "cell_type": "markdown",
   "id": "780ab4bd",
   "metadata": {},
   "source": [
    "# 🎵 Section C - Model Training: Single vs Album Classification"
   ]
  },
  {
   "cell_type": "markdown",
   "id": "5a68a897",
   "metadata": {},
   "source": [
    "## 📥 Load data and prepare features"
   ]
  },
  {
   "cell_type": "code",
   "execution_count": null,
   "id": "98a7cc6e",
   "metadata": {},
   "outputs": [],
   "source": [
    "import pandas as pd\n",
    "import numpy as np\n",
    "\n",
    "from sklearn.model_selection import train_test_split, GridSearchCV\n",
    "from sklearn.metrics import classification_report, accuracy_score, confusion_matrix\n",
    "\n",
    "import matplotlib.pyplot as plt\n",
    "import seaborn as sns\n",
    "from sklearn.ensemble import RandomForestClassifier\n",
    "from sklearn.linear_model import LogisticRegression\n",
    "from sklearn.svm import SVC\n",
    "\n",
    "# Load cleaned dataset\n",
    "df = pd.read_csv(\"../output/Processed_Spotify_Youtube.csv\")\n",
    "\n",
    "# Binary target: 1 = single, 0 = album/compilation\n",
    "df['Target'] = df['Album_type'].apply(lambda x: 1 if x == 'single' else 0)\n",
    "\n",
    "# Features/labels\n",
    "X = df.drop(columns=['Album_type', 'Target'])\n",
    "y = df['Target']\n",
    "\n",
    "# One-hot encode categoricals\n",
    "X = pd.get_dummies(X, drop_first=True)\n",
    "\n",
    "# Split to train/val/test: 80/10/10\n",
    "X_temp, X_test, y_temp, y_test = train_test_split(X, y, test_size=0.10, random_state=42, stratify=y)\n",
    "X_train, X_val, y_train, y_val = train_test_split(X_temp, y_temp, test_size=0.1111, random_state=42, stratify=y_temp)"
   ]
  },
  {
   "cell_type": "markdown",
   "id": "6a25e183",
   "metadata": {},
   "source": [
    "## 🧪 Evaluation helper"
   ]
  },
  {
   "cell_type": "code",
   "execution_count": null,
   "id": "d633f9eb",
   "metadata": {},
   "outputs": [],
   "source": [
    "def evaluate_model(name, model):\n",
    "    print(f\"\\n📊 Results for: {name}\")\n",
    "    y_pred = model.predict(X_test)\n",
    "    print(classification_report(y_test, y_pred))\n",
    "    acc = accuracy_score(y_test, y_pred)\n",
    "    print(f\"Accuracy: {acc:.3f}\")\n",
    "    return name, acc"
   ]
  },
  {
   "cell_type": "markdown",
   "id": "855bdfd3",
   "metadata": {},
   "source": [
    "## 🌳 Random Forest"
   ]
  },
  {
   "cell_type": "code",
   "execution_count": null,
   "id": "325d7d1a",
   "metadata": {},
   "outputs": [],
   "source": [
    "rf = RandomForestClassifier(random_state=42)\n",
    "params_rf = {'n_estimators': [50, 100], 'max_depth': [None, 10, 20]}\n",
    "gs_rf = GridSearchCV(rf, params_rf, cv=3)\n",
    "gs_rf.fit(X_train, y_train)\n",
    "best_rf = gs_rf.best_estimator_"
   ]
  },
  {
   "cell_type": "markdown",
   "id": "881231c3",
   "metadata": {},
   "source": [
    "## 📈 Logistic Regression"
   ]
  },
  {
   "cell_type": "code",
   "execution_count": null,
   "id": "2a549e40",
   "metadata": {},
   "outputs": [],
   "source": [
    "lr = LogisticRegression(max_iter=500)\n",
    "params_lr = {'C': [0.1, 1, 10]}\n",
    "gs_lr = GridSearchCV(lr, params_lr, cv=3)\n",
    "gs_lr.fit(X_train, y_train)\n",
    "best_lr = gs_lr.best_estimator_"
   ]
  },
  {
   "cell_type": "markdown",
   "id": "cc1bc5b1",
   "metadata": {},
   "source": [
    "## 🧠 Support Vector Machine (SVM)"
   ]
  },
  {
   "cell_type": "code",
   "execution_count": null,
   "id": "07850f4e",
   "metadata": {},
   "outputs": [],
   "source": [
    "svc = SVC()\n",
    "params_svm = {'C': [0.1, 1, 10], 'kernel': ['linear', 'rbf']}\n",
    "gs_svm = GridSearchCV(svc, params_svm, cv=3)\n",
    "gs_svm.fit(X_train, y_train)\n",
    "best_svm = gs_svm.best_estimator_"
   ]
  },
  {
   "cell_type": "markdown",
   "id": "6d1ea223",
   "metadata": {},
   "source": [
    "## 📉 Evaluation & Comparison"
   ]
  },
  {
   "cell_type": "code",
   "execution_count": null,
   "id": "6c457dd7",
   "metadata": {},
   "outputs": [],
   "source": [
    "results = []\n",
    "for name, model in [(\"Random Forest\", best_rf), (\"Logistic Regression\", best_lr), (\"SVM\", best_svm)]:\n",
    "    results.append(evaluate_model(name, model))"
   ]
  },
  {
   "cell_type": "code",
   "execution_count": null,
   "id": "4a295a36",
   "metadata": {},
   "outputs": [],
   "source": [
    "names, scores = zip(*results)\n",
    "plt.figure(figsize=(8, 5))\n",
    "sns.barplot(x=list(names), y=list(scores))\n",
    "plt.title(\"Test Accuracy of Models\")\n",
    "plt.ylabel(\"Accuracy\")\n",
    "plt.ylim(0, 1)\n",
    "plt.show()"
   ]
  }
 ],
 "metadata": {},
 "nbformat": 4,
 "nbformat_minor": 5
}
