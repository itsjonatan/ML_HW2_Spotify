{
 "cells": [
  {
   "cell_type": "code",
   "execution_count": 9,
   "id": "01a4de81",
   "metadata": {},
   "outputs": [],
   "source": [
    "# Machine Learning - Assignment 2\n",
    "# Section B: Data Pre-processing\n",
    "\n",
    "import pandas as pd\n",
    "import numpy as np\n",
    "\n",
    "# Example: Load your dataset (edit path as needed)\n",
    "df = pd.read_csv(\"../data/Spotify_Youtube.csv\")"
   ]
  },
  {
   "cell_type": "code",
   "execution_count": 10,
   "id": "0479ddf7",
   "metadata": {},
   "outputs": [],
   "source": [
    "# --- ניקוי עמודות לא שימושיות ---\n",
    "df.drop(columns=['Unnamed: 0', 'Url_spotify', 'Url_youtube', 'Uri', 'Title', 'Channel', 'Description', 'Licensed', 'official_video'], inplace=True, errors='ignore')"
   ]
  },
  {
   "cell_type": "code",
   "execution_count": 12,
   "id": "5b1b254c",
   "metadata": {},
   "outputs": [],
   "source": [
    "# --- אימפיוטציה פשוטה לפיצ'רים נומריים עם מעט NA ---\n",
    "num_cols = df.select_dtypes(include='number').columns\n",
    "df[num_cols] = df[num_cols].fillna(df[num_cols].median())"
   ]
  },
  {
   "cell_type": "code",
   "execution_count": 13,
   "id": "ff2eb079",
   "metadata": {},
   "outputs": [],
   "source": [
    "# --- קידוד Album_type ל-label בינארי ---\n",
    "df['Target'] = df['Album_type'].map({'single': 1, 'album': 0, 'compilation': 0})\n",
    "\n",
    "# --- קידוד קטגוריות כמותיות ---\n",
    "df['Key_Code'] = df['Key'].astype('category').cat.codes\n",
    "df.drop(columns=['Key'], inplace=True)"
   ]
  },
  {
   "cell_type": "code",
   "execution_count": 14,
   "id": "1c5bd77d",
   "metadata": {},
   "outputs": [],
   "source": [
    "# --- נירמול Loudness (ל-Fitness for Clubs) ---\n",
    "df['Loudness_norm'] = (df['Loudness'] - df['Loudness'].min()) / (df['Loudness'].max() - df['Loudness'].min())\n",
    "\n",
    "# --- יצירת פיצ'ר Fitness for Clubs ---\n",
    "df['Fitness_for_Clubs'] = df[['Danceability', 'Energy', 'Loudness_norm', 'Valence']].mean(axis=1)"
   ]
  },
  {
   "cell_type": "code",
   "execution_count": 15,
   "id": "2b31fc39",
   "metadata": {},
   "outputs": [],
   "source": [
    "# --- קידוד פיצ'רים נוספים אם נדרש ---\n",
    "# לדוגמה: Song Name Length\n",
    "if 'Track' in df.columns:\n",
    "    df['Song_Name_Length'] = df['Track'].apply(lambda x: len(str(x).split()))\n",
    "    df.drop(columns=['Track'], inplace=True)"
   ]
  },
  {
   "cell_type": "code",
   "execution_count": 16,
   "id": "9f5073a5",
   "metadata": {},
   "outputs": [],
   "source": [
    "# --- נירמול פיצ'רים חשובים ---\n",
    "from sklearn.preprocessing import StandardScaler\n",
    "\n",
    "features_to_scale = ['Duration_ms', 'Tempo', 'Views', 'Likes', 'Stream', 'Fitness_for_Clubs']\n",
    "scaler = StandardScaler()\n",
    "df[features_to_scale] = scaler.fit_transform(df[features_to_scale])"
   ]
  },
  {
   "cell_type": "code",
   "execution_count": 17,
   "id": "db41d698",
   "metadata": {},
   "outputs": [
    {
     "name": "stdout",
     "output_type": "stream",
     "text": [
      "✅ Data cleaned and saved. Ready for modeling!\n"
     ]
    }
   ],
   "source": [
    "# --- שמירה ---\n",
    "df.to_csv(\"B_cleaned_ready_for_modeling.csv\", index=False)\n",
    "print(\"✅ Data cleaned and saved. Ready for modeling!\")"
   ]
  }
 ],
 "metadata": {
  "kernelspec": {
   "display_name": "venv",
   "language": "python",
   "name": "python3"
  },
  "language_info": {
   "codemirror_mode": {
    "name": "ipython",
    "version": 3
   },
   "file_extension": ".py",
   "mimetype": "text/x-python",
   "name": "python",
   "nbconvert_exporter": "python",
   "pygments_lexer": "ipython3",
   "version": "3.10.13"
  }
 },
 "nbformat": 4,
 "nbformat_minor": 5
}
