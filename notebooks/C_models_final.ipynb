
{
 "cells": [
  {
   "cell_type": "markdown",
   "metadata": {},
   "source": [
    "# Section C – Predicting Single vs. Album Song"
   ]
  },
  {
   "cell_type": "code",
   "execution_count": null,
   "metadata": {},
   "outputs": [],
   "source": [
    "import pandas as pd
",
    "import numpy as np
",
    "from sklearn.model_selection import train_test_split, GridSearchCV
",
    "from sklearn.preprocessing import StandardScaler
",
    "from sklearn.linear_model import LogisticRegression
",
    "from sklearn.ensemble import RandomForestClassifier
",
    "from sklearn.svm import SVC
",
    "from sklearn.metrics import classification_report, confusion_matrix, f1_score, accuracy_score
",
    "import matplotlib.pyplot as plt
",
    "import seaborn as sns"
   ]
  },
  {
   "cell_type": "code",
   "execution_count": null,
   "metadata": {},
   "outputs": [],
   "source": [
    "# Load cleaned dataset
",
    "df = pd.read_csv("../output/B_cleaned_ready_for_modeling.csv")
",
    "
",
    "# Set target and features
",
    "y = df['Target']
",
    "X = df.drop(columns=['Target'])"
   ]
  },
  {
   "cell_type": "code",
   "execution_count": null,
   "metadata": {},
   "outputs": [],
   "source": [
    "# Split data: 80% train, 10% val, 10% test
",
    "X_train_val, X_test, y_train_val, y_test = train_test_split(X, y, test_size=0.1, random_state=42, stratify=y)
",
    "X_train, X_val, y_train, y_val = train_test_split(X_train_val, y_train_val, test_size=0.1111, random_state=42, stratify=y_train_val)
",
    "
",
    "# Standardize features
",
    "scaler = StandardScaler()
",
    "X_train_scaled = scaler.fit_transform(X_train)
",
    "X_val_scaled = scaler.transform(X_val)
",
    "X_test_scaled = scaler.transform(X_test)"
   ]
  },
  {
   "cell_type": "code",
   "execution_count": null,
   "metadata": {},
   "outputs": [],
   "source": [
    "# Define models and parameter grids
",
    "models = {}
",
    "results = {}
",
    "
",
    "# Logistic Regression
",
    "lr = LogisticRegression(class_weight='balanced')
",
    "params_lr = {'C': [0.1, 1, 10]}
",
    "gs_lr = GridSearchCV(lr, params_lr, cv=3)
",
    "gs_lr.fit(X_train_scaled, y_train)
",
    "models['Logistic Regression'] = gs_lr.best_estimator_
",
    "results['Logistic Regression'] = f1_score(y_val, gs_lr.predict(X_val_scaled))"
   ]
  },
  {
   "cell_type": "code",
   "execution_count": null,
   "metadata": {},
   "outputs": [],
   "source": [
    "# Random Forest
",
    "rf = RandomForestClassifier(class_weight='balanced', random_state=42)
",
    "params_rf = {'n_estimators': [50, 100], 'max_depth': [None, 10]}
",
    "gs_rf = GridSearchCV(rf, params_rf, cv=3)
",
    "gs_rf.fit(X_train, y_train)
",
    "models['Random Forest'] = gs_rf.best_estimator_
",
    "results['Random Forest'] = f1_score(y_val, gs_rf.predict(X_val))"
   ]
  },
  {
   "cell_type": "code",
   "execution_count": null,
   "metadata": {},
   "outputs": [],
   "source": [
    "# SVM
",
    "svm = SVC(class_weight='balanced')
",
    "params_svm = {'C': [0.1, 1, 10], 'kernel': ['rbf', 'linear']}
",
    "gs_svm = GridSearchCV(svm, params_svm, cv=3)
",
    "gs_svm.fit(X_train_scaled, y_train)
",
    "models['SVM'] = gs_svm.best_estimator_
",
    "results['SVM'] = f1_score(y_val, gs_svm.predict(X_val_scaled))"
   ]
  },
  {
   "cell_type": "code",
   "execution_count": null,
   "metadata": {},
   "outputs": [],
   "source": [
    "# Plot model comparison
",
    "plt.figure(figsize=(8, 5))
",
    "sns.barplot(x=list(results.keys()), y=list(results.values()))
",
    "plt.title('Model Comparison by F1 Score')
",
    "plt.ylabel('F1 Score')
",
    "plt.ylim(0, 1)
",
    "plt.show()"
   ]
  },
  {
   "cell_type": "code",
   "execution_count": null,
   "metadata": {},
   "outputs": [],
   "source": [
    "# Print best model's classification report on test set
",
    "best_model_name = max(results, key=results.get)
",
    "best_model = models[best_model_name]
",
    "if 'scaled' in best_model_name.lower():
",
    "    X_test_final = X_test_scaled
",
    "else:
",
    "    X_test_final = X_test
",
    "
",
    "y_pred = best_model.predict(X_test_final)
",
    "print(f"Best model: {best_model_name}")
",
    "print("\nClassification Report:")
",
    "print(classification_report(y_test, y_pred))"
   ]
  }
 ],
 "metadata": {
  "kernelspec": {
   "display_name": "Python 3",
   "language": "python",
   "name": "python3"
  },
  "language_info": {
   "name": "python",
   "version": "3.10"
  }
 },
 "nbformat": 4,
 "nbformat_minor": 2
}
