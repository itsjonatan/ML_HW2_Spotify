{
 "cells": [
  {
   "cell_type": "markdown",
   "id": "b0debbf4",
   "metadata": {},
   "source": [
    "We begin by loading the dataset. Ensure the CSV file is located in the correct path relative to the notebook."
   ]
  },
  {
   "cell_type": "code",
   "execution_count": 7,
   "id": "60f779f7",
   "metadata": {},
   "outputs": [],
   "source": [
    "# Machine Learning - Assignment 2\n",
    "# Section B: Data Pre-processing\n",
    "\n",
    "import pandas as pd\n",
    "import numpy as np\n",
    "\n",
    "# Example: Load your dataset (edit path as needed)\n",
    "df = pd.read_csv(\"../data/Spotify_Youtube.csv\")"
   ]
  },
  {
   "cell_type": "markdown",
   "id": "d652b1ae",
   "metadata": {},
   "source": [
    "We create several new features based on relevant aggregations and domain knowledge."
   ]
  },
  {
   "cell_type": "code",
   "execution_count": 9,
   "id": "b9976e53",
   "metadata": {},
   "outputs": [],
   "source": [
    "# --- Feature Engineering ---\n",
    "\n",
    "# 1. Album Song Count\n",
    "album_song_count = df.groupby('Album')['Track'].transform('count')\n",
    "df['Album_Song_Count'] = album_song_count\n",
    "# ✅ Covered in class: grouping & aggregation (04-Data-Preprocessing)\n"
   ]
  },
  {
   "cell_type": "code",
   "execution_count": 10,
   "id": "720565f4",
   "metadata": {},
   "outputs": [],
   "source": [
    "artist_total_views = df.groupby('Artist')['Views'].transform('sum')\n",
    "artist_song_count = df.groupby('Artist')['Track'].transform('count')\n",
    "df['Artist_Avg_Views'] = artist_total_views / artist_song_count"
   ]
  },
  {
   "cell_type": "code",
   "execution_count": 11,
   "id": "055f00ab",
   "metadata": {},
   "outputs": [],
   "source": [
    "df['Song_Name_Length'] = df['Track'].str.split().str.len()\n",
    "album_total_duration = df.groupby('Album')['Duration_ms'].transform('sum')\n",
    "df['Total_Album_Length'] = album_total_duration"
   ]
  },
  {
   "cell_type": "code",
   "execution_count": 12,
   "id": "307b1742",
   "metadata": {},
   "outputs": [],
   "source": [
    "df['Name_Contains_Number'] = df['Track'].apply(lambda x: any(char.isdigit() for char in str(x)))"
   ]
  },
  {
   "cell_type": "code",
   "execution_count": 8,
   "id": "613c9088",
   "metadata": {},
   "outputs": [
    {
     "data": {
      "text/plain": [
       "Unnamed: 0            0\n",
       "Artist                0\n",
       "Url_spotify           0\n",
       "Track                 0\n",
       "Album                 0\n",
       "Album_type            0\n",
       "Uri                   0\n",
       "Danceability          2\n",
       "Energy                2\n",
       "Key                   2\n",
       "Loudness              2\n",
       "Speechiness           2\n",
       "Acousticness          2\n",
       "Instrumentalness      2\n",
       "Liveness              2\n",
       "Valence               2\n",
       "Tempo                 2\n",
       "Duration_ms           2\n",
       "Url_youtube         470\n",
       "Title               470\n",
       "Channel             470\n",
       "Views               470\n",
       "Likes               541\n",
       "Comments            569\n",
       "Description         876\n",
       "Licensed            470\n",
       "official_video      470\n",
       "Stream              576\n",
       "dtype: int64"
      ]
     },
     "execution_count": 8,
     "metadata": {},
     "output_type": "execute_result"
    }
   ],
   "source": [
    "df.isna().sum()"
   ]
  },
  {
   "cell_type": "code",
   "execution_count": 13,
   "id": "5d29de44",
   "metadata": {},
   "outputs": [],
   "source": [
    "\n",
    "# 5. Fitness for Clubs\n",
    "# Normalize loudness first (Loudness range is wide)\n",
    "from sklearn.preprocessing import MinMaxScaler\n",
    "scaler = MinMaxScaler()\n",
    "df['Loudness_Scaled'] = scaler.fit_transform(df[['Loudness']])\n",
    "df['Fitness_for_Clubs'] = df[['Danceability', 'Energy', 'Valence', 'Loudness_Scaled']].mean(axis=1)\n",
    "# ✅ Learned: Normalization, feature combination (04-Data-Preprocessing)\n",
    "\n",
    "# 6. Log Views (Handling outliers)\n",
    "df['Log_Views'] = np.log1p(df['Views'])\n",
    "# ✅ Transformation technique taught in class\n",
    "\n",
    "# 8. Has Featured Artist\n",
    "import re\n",
    "df['Has_Featured_Artist'] = df['Artist'].apply(lambda x: bool(re.search(r\"feat\\.|ft\\.|Feat\\.\", str(x))))\n",
    "\n",
    "# 9. Tempo Binned\n",
    "bins = [0, 90, 130, np.inf]\n",
    "labels = ['Slow', 'Medium', 'Fast']\n",
    "df['Tempo_Bin'] = pd.cut(df['Tempo'], bins=bins, labels=labels)"
   ]
  },
  {
   "cell_type": "code",
   "execution_count": 14,
   "id": "3dc5f8e9",
   "metadata": {},
   "outputs": [],
   "source": [
    "# --- Imputation ---\n",
    "# Example: Fill missing numeric columns with median\n",
    "num_cols = df.select_dtypes(include=np.number).columns\n",
    "df[num_cols] = df[num_cols].fillna(df[num_cols].median())\n",
    "# ✅ Statistical imputation: taught in class (mean/median) (04-Data-Preprocessing)\n"
   ]
  },
  {
   "cell_type": "markdown",
   "id": "e6dfafb9",
   "metadata": {},
   "source": [
    "Missing values are handled using statistical median imputation for numeric columns."
   ]
  },
  {
   "cell_type": "code",
   "execution_count": 15,
   "id": "49f1c1f1",
   "metadata": {},
   "outputs": [],
   "source": [
    "# --- Transformation ---\n",
    "# Already applied: log1p transform on Views\n",
    "# Could also apply StandardScaler later during modeling\n",
    "\n",
    "# --- Exclusion ---\n",
    "# Example: Drop URL columns\n",
    "df.drop(columns=['Url_spotify', 'Url_youtube', 'Description'], inplace=True, errors='ignore')\n",
    "# ✅ Covered in class: dropping uninformative features\n",
    "\n",
    "import os\n",
    "os.makedirs(\"output\", exist_ok=True)\n",
    "# Export for later use\n",
    "df.to_csv(\"output/Processed_Spotify_Youtube.csv\", index=False)"
   ]
  }
 ],
 "metadata": {
  "kernelspec": {
   "display_name": "venv",
   "language": "python",
   "name": "python3"
  },
  "language_info": {
   "codemirror_mode": {
    "name": "ipython",
    "version": 3
   },
   "file_extension": ".py",
   "mimetype": "text/x-python",
   "name": "python",
   "nbconvert_exporter": "python",
   "pygments_lexer": "ipython3",
   "version": "3.10.13"
  }
 },
 "nbformat": 4,
 "nbformat_minor": 5
}
