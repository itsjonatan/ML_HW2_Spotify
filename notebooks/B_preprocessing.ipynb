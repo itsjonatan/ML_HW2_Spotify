{
 "cells": [
  {
   "cell_type": "code",
   "execution_count": 7,
   "id": "e36d52ee",
   "metadata": {},
   "outputs": [
    {
     "name": "stdout",
     "output_type": "stream",
     "text": [
      "Dataset shape: (20718, 28)\n",
      "\n",
      "Column types:\n",
      " float64    15\n",
      "object     12\n",
      "int64       1\n",
      "Name: count, dtype: int64\n",
      "\n",
      "Missing values (top):\n",
      " Description       876\n",
      "Stream            576\n",
      "Comments          569\n",
      "Likes             541\n",
      "official_video    470\n",
      "Licensed          470\n",
      "Views             470\n",
      "Channel           470\n",
      "Title             470\n",
      "Url_youtube       470\n",
      "dtype: int64\n",
      "\n",
      "Total rows: 20718\n"
     ]
    }
   ],
   "source": [
    "# --- Imports and data load ---\n",
    "import pandas as pd\n",
    "import numpy as np\n",
    "\n",
    "df = pd.read_csv('../data/Spotify_Youtube.csv')  # Adjust if needed\n",
    "print(\"Dataset shape:\", df.shape)\n",
    "print(\"\\nColumn types:\\n\", df.dtypes.value_counts())\n",
    "print(\"\\nMissing values (top):\\n\", df.isna().sum().sort_values(ascending=False).head(10))\n",
    "print(\"\\nTotal rows:\", len(df))"
   ]
  },
  {
   "cell_type": "code",
   "execution_count": 8,
   "id": "562d88bb",
   "metadata": {},
   "outputs": [
    {
     "name": "stdout",
     "output_type": "stream",
     "text": [
      "Removed 470 rows with missing Youtube or Spotify\n"
     ]
    }
   ],
   "source": [
    "# --- Drop rows missing Youtube or Spotify info ---\n",
    "before = df.shape[0]\n",
    "df = df.dropna(subset=['Url_spotify', 'Url_youtube'])\n",
    "print(\"Removed\", before - df.shape[0], \"rows with missing Youtube or Spotify\")"
   ]
  },
  {
   "cell_type": "code",
   "execution_count": 9,
   "id": "c37f02f0",
   "metadata": {},
   "outputs": [
    {
     "name": "stdout",
     "output_type": "stream",
     "text": [
      "\n",
      "Target distribution:\n",
      " Target\n",
      "0    0.759976\n",
      "1    0.240024\n",
      "Name: proportion, dtype: float64\n"
     ]
    }
   ],
   "source": [
    "# --- Target creation ---\n",
    "df['Target'] = df['Album_type'].map({'single': 1, 'album': 0, 'compilation': 0})\n",
    "print(\"\\nTarget distribution:\\n\", df['Target'].value_counts(normalize=True))"
   ]
  },
  {
   "cell_type": "code",
   "execution_count": 10,
   "id": "a4231389",
   "metadata": {},
   "outputs": [],
   "source": [
    "# --- Feature engineering (לפני השלכת עמודות) ---\n",
    "\n",
    "# Normalize Loudness\n",
    "df['Loudness_norm'] = (df['Loudness'] - df['Loudness'].min()) / (df['Loudness'].max() - df['Loudness'].min())\n",
    "\n",
    "# Fitness for Clubs (based on normalized loudness)\n",
    "df['Fitness_for_Clubs'] = df[['Danceability', 'Energy', 'Valence']].mean(axis=1) + df['Loudness_norm']\n",
    "\n",
    "# Song Name Length\n",
    "df['Song_Name_Length'] = df['Track'].astype(str).str.split().str.len()\n",
    "\n",
    "# Key Code\n",
    "df['Key_Code'] = df['Key'].astype('category').cat.codes\n",
    "df.drop(columns=['Key'], inplace=True)"
   ]
  },
  {
   "cell_type": "code",
   "execution_count": 11,
   "id": "7ca6a641",
   "metadata": {},
   "outputs": [],
   "source": [
    "# --- Drop non-numeric columns except 'Album_type' which was mapped ---\n",
    "drop_cols = ['Artist', 'Url_spotify', 'Track', 'Album', 'Uri', 'Url_youtube', 'Title', \n",
    "             'Channel', 'Description', 'Licensed', 'official_video']\n",
    "df = df.drop(columns=[col for col in drop_cols if col in df.columns])"
   ]
  },
  {
   "cell_type": "code",
   "execution_count": 13,
   "id": "a7678478",
   "metadata": {},
   "outputs": [
    {
     "name": "stdout",
     "output_type": "stream",
     "text": [
      "(20248, 20) (20248,)\n",
      "\n",
      "Numeric types:\n",
      " float64    16\n",
      "int64       2\n",
      "object      1\n",
      "int8        1\n",
      "Name: count, dtype: int64\n"
     ]
    }
   ],
   "source": [
    "# --- Final structure check ---\n",
    "X = df.drop(columns=['Target'])\n",
    "y = df['Target']\n",
    "print(X.shape, y.shape)\n",
    "print(\"\\nNumeric types:\\n\", X.dtypes.value_counts())"
   ]
  },
  {
   "cell_type": "code",
   "execution_count": 14,
   "id": "8b660f7b",
   "metadata": {},
   "outputs": [],
   "source": [
    "df.to_csv(\"../output/B_cleaned_ready_for_modeling.csv\", index=False)"
   ]
  }
 ],
 "metadata": {
  "kernelspec": {
   "display_name": "venv",
   "language": "python",
   "name": "python3"
  },
  "language_info": {
   "codemirror_mode": {
    "name": "ipython",
    "version": 3
   },
   "file_extension": ".py",
   "mimetype": "text/x-python",
   "name": "python",
   "nbconvert_exporter": "python",
   "pygments_lexer": "ipython3",
   "version": "3.10.13"
  }
 },
 "nbformat": 4,
 "nbformat_minor": 5
}
