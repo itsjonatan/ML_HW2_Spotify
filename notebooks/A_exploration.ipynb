{
 "cells": [
  {
   "cell_type": "markdown",
   "metadata": {},
   "source": [
    "# Machine Learning - Assignment 2\n",
    "# Section A: Data Exploration & Visualization"
   ]
  },
  {
   "cell_type": "code",
   "execution_count": null,
   "metadata": {},
   "outputs": [],
   "source": [
    "import pandas as pd\n",
    "import numpy as np\n",
    "import matplotlib.pyplot as plt\n",
    "import seaborn as sns\n",
    "import plotly.express as px\n",
    "\n",
    "# Set style for better visualizations\n",
    "plt.style.use('seaborn')\n",
    "sns.set_palette('husl')"
   ]
  },
  {
   "cell_type": "code",
   "execution_count": null,
   "metadata": {},
   "outputs": [],
   "source": [
    "# Load the dataset\n",
    "df = pd.read_csv(\"../data/Spotify_Youtube.csv\")\n",
    "\n",
    "# Display basic information\n",
    "print(\"Dataset Shape:\", df.shape)\n",
    "print(\"\\nFirst few rows:\")\n",
    "display(df.head())"
   ]
  },
  {
   "cell_type": "code",
   "execution_count": null,
   "metadata": {},
   "outputs": [],
   "source": [
    "# Drop unused columns\n",
    "cols_to_drop = ['Unnamed: 0', 'Url_spotify', 'Uri', 'Url_youtube', 'Title', 'Description']\n",
    "df.drop(columns=cols_to_drop, inplace=True)\n",
    "\n",
    "# Combine 'compilation' into 'album'\n",
    "df['Album_type'] = df['Album_type'].replace({'compilation': 'album'})\n",
    "\n",
    "# Basic statistics summary\n",
    "print(\"Basic Statistics:\")\n",
    "display(df.describe())"
   ]
  },
  {
   "cell_type": "markdown",
   "metadata": {},
   "source": [
    "## Distribution Analysis"
   ]
  },
  {
   "cell_type": "code",
   "execution_count": null,
   "metadata": {},
   "outputs": [],
   "source": [
    "# Histogram of Danceability\n",
    "plt.figure(figsize=(8, 5))\n",
    "sns.histplot(data=df, x='Danceability', bins=30, kde=True, hue='Album_type')\n",
    "plt.title(\"Distribution of Danceability by Album Type\")\n",
    "plt.xlabel(\"Danceability\")\n",
    "plt.ylabel(\"Count\")\n",
    "plt.legend(title='Album Type')\n",
    "plt.tight_layout()\n",
    "plt.show()"
   ]
  },
  {
   "cell_type": "code",
   "execution_count": null,
   "metadata": {},
   "outputs": [],
   "source": [
    "# Bar Plot: Average Views by Album Type\n",
    "avg_views = df.groupby('Album_type')['Views'].mean().sort_values()\n",
    "avg_views.plot(kind='bar', title='Average YouTube Views by Album Type')\n",
    "plt.ylabel(\"Average Views\")\n",
    "plt.xticks(rotation=0)\n",
    "plt.tight_layout()\n",
    "plt.show()"
   ]
  },
  {
   "cell_type": "code",
   "execution_count": null,
   "metadata": {},
   "outputs": [],
   "source": [
    "# Box Plot: Energy by Album Type\n",
    "plt.figure(figsize=(8, 5))\n",
    "sns.boxplot(x='Album_type', y='Energy', data=df)\n",
    "plt.title(\"Distribution of Energy by Album Type\")\n",
    "plt.xlabel(\"Album Type\")\n",
    "plt.ylabel(\"Energy\")\n",
    "plt.tight_layout()\n",
    "plt.show()"
   ]
  },
  {
   "cell_type": "code",
   "execution_count": null,
   "metadata": {},
   "outputs": [],
   "source": [
    "# Scatter Plot: Valence vs Danceability\n",
    "fig = px.scatter(df, x='Valence', y='Danceability', color='Album_type', \n",
    "                 title='Valence vs Danceability by Album Type', opacity=0.6)\n",
    "fig.show()"
   ]
  },
  {
   "cell_type": "code",
   "execution_count": null,
   "metadata": {},
   "outputs": [],
   "source": [
    "# Pie Chart: Distribution of Album Types\n",
    "album_counts = df['Album_type'].value_counts()\n",
    "album_counts.plot(kind='pie', autopct='%1.1f%%', startangle=90, title='Album Type Distribution')\n",
    "plt.ylabel('')\n",
    "plt.tight_layout()\n",
    "plt.show()"
   ]
  },
  {
   "cell_type": "code",
   "execution_count": null,
   "metadata": {},
   "outputs": [],
   "source": [
    "# Save processed dataset for later steps\n",
    "df.to_csv(\"../output/Processed_Spotify_Youtube.csv\", index=False)"
   ]
  }
 ],
 "metadata": {
  "kernelspec": {
   "display_name": "Python 3",
   "language": "python",
   "name": "python3"
  },
  "language_info": {
   "codemirror_mode": {
    "name": "ipython",
    "version": 3
   },
   "file_extension": ".py",
   "mimetype": "text/x-python",
   "name": "python",
   "nbconvert_exporter": "python",
   "pygments_lexer": "ipython3",
   "version": "3.8.0"
  }
 },
 "nbformat": 4,
 "nbformat_minor": 4
}
